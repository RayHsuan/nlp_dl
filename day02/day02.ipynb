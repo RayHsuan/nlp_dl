{
  "nbformat": 4,
  "nbformat_minor": 0,
  "metadata": {
    "colab": {
      "name": "day02.ipynb",
      "provenance": [],
      "collapsed_sections": []
    },
    "kernelspec": {
      "name": "python3",
      "display_name": "Python 3"
    }
  },
  "cells": [
    {
      "cell_type": "markdown",
      "metadata": {
        "id": "SW2BBGReFy4U"
      },
      "source": [
        "### 作業目的: 更加熟習pytorch的tensor操作\r\n",
        "\r\n",
        "pytorch中有提供很多的API，讓使用者針對tensor進行各式各樣的操作，本次的作業希望讀者由pytorch的[官方網站](https://pytorch.org/docs/stable/torch.html)中選定四個針對tensor操作的API，對他的使用方法進行範例操作演練。"
      ]
    },
    {
      "cell_type": "markdown",
      "metadata": {
        "id": "phNFYnnBF07T"
      },
      "source": [
        "### 選定的API 函數\r\n",
        "\r\n",
        "**請寫下選定的API functions**\r\n",
        "\r\n",
        "ex:\r\n",
        "* torch.from_array() / tensor.numpy()\r\n",
        "* torch.unsqueeze() / torch.squeeze()\r\n",
        "* tensor.transpose() / tensor.permute()\r\n",
        "* torch.reshape() / tensor.view()"
      ]
    },
    {
      "cell_type": "code",
      "metadata": {
        "id": "_Cf8kgo9F387"
      },
      "source": [
        "# Import torch and other required modules\r\n",
        "import torch\r\n",
        "import numpy as np"
      ],
      "execution_count": 1,
      "outputs": []
    },
    {
      "cell_type": "code",
      "metadata": {
        "id": "aetvet2SGLsE"
      },
      "source": [
        "### Function 1 - torch.from_array() / tensor.numpy()"
      ],
      "execution_count": null,
      "outputs": []
    },
    {
      "cell_type": "code",
      "metadata": {
        "colab": {
          "base_uri": "https://localhost:8080/"
        },
        "id": "hhY9JHtbF6x8",
        "outputId": "fefb9244-ec25-4f05-8d33-c7724ccc028c"
      },
      "source": [
        "# Example 1 - 將torch tensor與numpy ndarray互相轉換\r\n",
        "a = np.random.rand(1,2,3,3)\r\n",
        "print(f'a: {type(a)}, {a.dtype}')\r\n",
        "b = torch.from_numpy(a)\r\n",
        "print(f'b: {type(b)}, {b.dtype}')\r\n",
        "c = torch.tensor(a)\r\n",
        "print(f'c: {type(c)}, {c.dtype}')\r\n",
        "d = c.numpy()\r\n",
        "print(f'd: {type(d)}, {d.dtype}')"
      ],
      "execution_count": null,
      "outputs": [
        {
          "output_type": "stream",
          "text": [
            "a: <class 'numpy.ndarray'>, float64\n",
            "b: <class 'torch.Tensor'>, torch.float64\n",
            "c: <class 'torch.Tensor'>, torch.float64\n",
            "d: <class 'numpy.ndarray'>, float64\n"
          ],
          "name": "stdout"
        }
      ]
    },
    {
      "cell_type": "code",
      "metadata": {
        "colab": {
          "base_uri": "https://localhost:8080/"
        },
        "id": "pEH1LOOtGJAk",
        "outputId": "ca765f72-ada7-4582-f7cb-35463d9ce872"
      },
      "source": [
        "# Example 2 - 經過轉換後，torch tensor與numpy array依然有相近的資料型態\r\n",
        "a = np.random.randint(low=0, high=10, size=(2,2))\r\n",
        "print(f'a: {type(a)}, {a.dtype}')\r\n",
        "b = torch.from_numpy(a)\r\n",
        "print(f'b: {type(b)}, {b.dtype}')\r\n",
        "c = torch.tensor(a)\r\n",
        "print(f'c: {type(c)}, {c.dtype}')\r\n",
        "d = c.numpy()\r\n",
        "print(f'd: {type(d)}, {d.dtype}')"
      ],
      "execution_count": null,
      "outputs": [
        {
          "output_type": "stream",
          "text": [
            "a: <class 'numpy.ndarray'>, int64\n",
            "b: <class 'torch.Tensor'>, torch.int64\n",
            "c: <class 'torch.Tensor'>, torch.int64\n",
            "d: <class 'numpy.ndarray'>, int64\n"
          ],
          "name": "stdout"
        }
      ]
    },
    {
      "cell_type": "code",
      "metadata": {
        "id": "f7ygxKIhGOmU"
      },
      "source": [
        "### Function 2 - torch.unsqueeze() / torch.squeeze()\r\n",
        "#https://zhuanlan.zhihu.com/p/86763381"
      ],
      "execution_count": null,
      "outputs": []
    },
    {
      "cell_type": "code",
      "metadata": {
        "colab": {
          "base_uri": "https://localhost:8080/"
        },
        "id": "BAOouI_6v63j",
        "outputId": "4ef66b04-cd22-4e07-a305-c839946a2916"
      },
      "source": [
        "# Example 1:torch.unsqueeze() - 擴展维度\r\n",
        "x = torch.Tensor([1, 2, 3, 4])\r\n",
        "print('-' * 70)\r\n",
        "print(f'x: {x} , {x.size()} , {x.dim()}')\r\n",
        "\r\n",
        "print('-' * 70)\r\n",
        "y0 = torch.unsqueeze(x, 0)\r\n",
        "print(f'y0: {y0} , {y0.size()} , {y0.dim()}')\r\n",
        "\r\n",
        "print('-' * 70)\r\n",
        "y1 = torch.unsqueeze(x, 1)\r\n",
        "print(f'y1: {y1} , {y1.size()} , {y1.dim()}')\r\n",
        "\r\n",
        "print('-' * 70)\r\n",
        "ym1 = torch.unsqueeze(x, -1)\r\n",
        "print(f'ym1: {ym1} , {ym1.size()} , {ym1.dim()}')\r\n",
        "\r\n",
        "print('-' * 70)\r\n",
        "ym2 = torch.unsqueeze(x, -2)\r\n",
        "print(f'ym2: {ym2} , {ym2.size()} , {ym2.dim()}')"
      ],
      "execution_count": 4,
      "outputs": [
        {
          "output_type": "stream",
          "text": [
            "----------------------------------------------------------------------\n",
            "x: tensor([1., 2., 3., 4.]) , torch.Size([4]) , 1\n",
            "----------------------------------------------------------------------\n",
            "y0: tensor([[1., 2., 3., 4.]]) , torch.Size([1, 4]) , 2\n",
            "----------------------------------------------------------------------\n",
            "y1: tensor([[1.],\n",
            "        [2.],\n",
            "        [3.],\n",
            "        [4.]]) , torch.Size([4, 1]) , 2\n",
            "----------------------------------------------------------------------\n",
            "ym1: tensor([[1.],\n",
            "        [2.],\n",
            "        [3.],\n",
            "        [4.]]) , torch.Size([4, 1]) , 2\n",
            "----------------------------------------------------------------------\n",
            "ym2: tensor([[1., 2., 3., 4.]]) , torch.Size([1, 4]) , 2\n"
          ],
          "name": "stdout"
        }
      ]
    },
    {
      "cell_type": "code",
      "metadata": {
        "colab": {
          "base_uri": "https://localhost:8080/"
        },
        "id": "U5NCieo80lS7",
        "outputId": "a08887a6-5398-4fdc-9d1d-e49463fa8718"
      },
      "source": [
        "# Example 2:torch.squeeze() - 降維\r\n",
        "x2 = torch.zeros(2, 1, 2, 1, 2)\r\n",
        "print(f'x2: {x2} , {x2.size()} , {x2.dim()}')\r\n",
        "z = torch.squeeze(x2)\r\n",
        "print(f'z: {z} , {z.size()} , {z.dim()}')\r\n",
        "z0 = torch.squeeze(x2, 0)  # 給定dim时，擠壓操作只在給定的維度上\r\n",
        "print(f'z0: {z0} , {z0.size()} , {z0.dim()}') \r\n",
        "z1 = torch.squeeze(x2, 1)\r\n",
        "print(f'z1: {z1} , {z1.size()} , {z1.dim()}')\r\n",
        "z2 = torch.squeeze(x2, 2)\r\n",
        "print(f'z2: {z2} , {z2.size()} , {z2.dim()}') \r\n",
        "z3 = torch.squeeze(x2, 3)\r\n",
        "print(f'z3: {z3} , {z3.size()} , {z3.dim()}') \r\n",
        "\r\n",
        "print('=' * 70)\r\n",
        "p = torch.zeros(2, 1, 2)\r\n",
        "print(f'p: {p} , {p.size()} , {p.dim()}')\r\n",
        "q = torch.squeeze(p)\r\n",
        "print(f'q: {q} , {q.size()} , {q.dim()}')\r\n",
        "\r\n",
        "print(torch.zeros(3, 2).numpy())"
      ],
      "execution_count": 6,
      "outputs": [
        {
          "output_type": "stream",
          "text": [
            "x2: tensor([[[[[0., 0.]],\n",
            "\n",
            "          [[0., 0.]]]],\n",
            "\n",
            "\n",
            "\n",
            "        [[[[0., 0.]],\n",
            "\n",
            "          [[0., 0.]]]]]) , torch.Size([2, 1, 2, 1, 2]) , 5\n",
            "z: tensor([[[0., 0.],\n",
            "         [0., 0.]],\n",
            "\n",
            "        [[0., 0.],\n",
            "         [0., 0.]]]) , torch.Size([2, 2, 2]) , 3\n",
            "z0: tensor([[[[[0., 0.]],\n",
            "\n",
            "          [[0., 0.]]]],\n",
            "\n",
            "\n",
            "\n",
            "        [[[[0., 0.]],\n",
            "\n",
            "          [[0., 0.]]]]]) , torch.Size([2, 1, 2, 1, 2]) , 5\n",
            "z1: tensor([[[[0., 0.]],\n",
            "\n",
            "         [[0., 0.]]],\n",
            "\n",
            "\n",
            "        [[[0., 0.]],\n",
            "\n",
            "         [[0., 0.]]]]) , torch.Size([2, 2, 1, 2]) , 4\n",
            "z2: tensor([[[[[0., 0.]],\n",
            "\n",
            "          [[0., 0.]]]],\n",
            "\n",
            "\n",
            "\n",
            "        [[[[0., 0.]],\n",
            "\n",
            "          [[0., 0.]]]]]) , torch.Size([2, 1, 2, 1, 2]) , 5\n",
            "z3: tensor([[[[0., 0.],\n",
            "          [0., 0.]]],\n",
            "\n",
            "\n",
            "        [[[0., 0.],\n",
            "          [0., 0.]]]]) , torch.Size([2, 1, 2, 2]) , 4\n",
            "======================================================================\n",
            "p: tensor([[[0., 0.]],\n",
            "\n",
            "        [[0., 0.]]]) , torch.Size([2, 1, 2]) , 3\n",
            "q: tensor([[0., 0.],\n",
            "        [0., 0.]]) , torch.Size([2, 2]) , 2\n",
            "[[0. 0.]\n",
            " [0. 0.]\n",
            " [0. 0.]]\n"
          ],
          "name": "stdout"
        }
      ]
    },
    {
      "cell_type": "code",
      "metadata": {
        "id": "hFRpYwAVTul7"
      },
      "source": [
        "### Function 3 - tensor.transpose() / tensor.permute()\r\n",
        "#https://zhuanlan.zhihu.com/p/76583143"
      ],
      "execution_count": null,
      "outputs": []
    },
    {
      "cell_type": "code",
      "metadata": {
        "colab": {
          "base_uri": "https://localhost:8080/"
        },
        "id": "_NEmrDt0T7iC",
        "outputId": "6c90d958-0493-47ed-ff29-0e9c656f2abf"
      },
      "source": [
        "# Example 1:tensor.transpose() - 轉置\r\n",
        "x3 = torch.randn(2, 3)\r\n",
        "print(f'x3: {x3} , {x3.size()} , {x3.dim()}')\r\n",
        "x3t = torch.transpose(x3, 0, 1)\r\n",
        "print(f'x3t: {x3t} , {x3t.size()} , {x3t.dim()}')"
      ],
      "execution_count": 9,
      "outputs": [
        {
          "output_type": "stream",
          "text": [
            "x3: tensor([[ 1.7068, -0.6085,  2.0170],\n",
            "        [ 0.0305, -0.5088, -3.3470]]) , torch.Size([2, 3]) , 2\n",
            "x3t: tensor([[ 1.7068,  0.0305],\n",
            "        [-0.6085, -0.5088],\n",
            "        [ 2.0170, -3.3470]]) , torch.Size([3, 2]) , 2\n"
          ],
          "name": "stdout"
        }
      ]
    },
    {
      "cell_type": "code",
      "metadata": {
        "id": "q3qb5HGeU_BM"
      },
      "source": [
        "# Example 2:tensor.permute() - 換位\r\n",
        "x4 = torch.randn(2, 3)\r\n",
        "print(f'x4: {x4} , {x4.size()} , {x4.dim()}')\r\n",
        "x4p = torch.transpose(x4, 0, 1)\r\n",
        "print(f'x4p: {x4p} , {x4p.size()} , {x4p.dim()}')"
      ],
      "execution_count": null,
      "outputs": []
    },
    {
      "cell_type": "code",
      "metadata": {
        "id": "g-DSwjAFWPea"
      },
      "source": [
        "### Function 4 - torch.reshape() / tensor.view()\r\n",
        "#https://zhuanlan.zhihu.com/p/87856193"
      ],
      "execution_count": null,
      "outputs": []
    },
    {
      "cell_type": "code",
      "metadata": {
        "colab": {
          "base_uri": "https://localhost:8080/"
        },
        "id": "koP-Ll1ZXRkE",
        "outputId": "2bd6236a-e1b8-48cd-de8e-56b21ebdf724"
      },
      "source": [
        "# Example 1:torch.reshape() - 改變矩陣/張量形狀\r\n",
        "x5 = torch.arange(4.)\r\n",
        "print(f'x5: {x5} , {x5.size()} , {x5.dim()}')\r\n",
        "x5r = torch.reshape(x5, (2, 2))\r\n",
        "print(f'x5r: {x5r} , {x5r.size()} , {x5r.dim()}')\r\n",
        "x6 = torch.tensor([[0, 1], [2, 3]])\r\n",
        "print(f'x6: {x6} , {x6.size()} , {x6.dim()}')\r\n",
        "x6r = torch.reshape(x6, (-1,))\r\n",
        "print(f'x6r: {x6r} , {x6r.size()} , {x6r.dim()}')"
      ],
      "execution_count": 11,
      "outputs": [
        {
          "output_type": "stream",
          "text": [
            "x5: tensor([0., 1., 2., 3.]) , torch.Size([4]) , 1\n",
            "x5r: tensor([[0., 1.],\n",
            "        [2., 3.]]) , torch.Size([2, 2]) , 2\n",
            "x6: tensor([[0, 1],\n",
            "        [2, 3]]) , torch.Size([2, 2]) , 2\n",
            "x6r: tensor([0, 1, 2, 3]) , torch.Size([4]) , 1\n"
          ],
          "name": "stdout"
        }
      ]
    },
    {
      "cell_type": "code",
      "metadata": {
        "colab": {
          "base_uri": "https://localhost:8080/"
        },
        "id": "k8w74T5uZi9c",
        "outputId": "39a59233-f163-4999-ac20-0b5c51d54745"
      },
      "source": [
        "# Example 2:tensor.view() - 重構張量的维度 (-1屬特別用法)\r\n",
        "x7 = torch.tensor([1,2,3,4,5,6])\r\n",
        "print(f'x7: {x7} , {x7.size()} , {x7.dim()}')\r\n",
        "x7v = x7.view(3, 2)       #轉3*2\r\n",
        "print(f'x7v: {x7v} , {x7v.size()} , {x7v.dim()}')\r\n",
        "x7vv1 = x7v.view(-1)       #變一維\r\n",
        "print(f'x7vv1: {x7vv1} , {x7vv1.size()} , {x7vv1.dim()}')\r\n",
        "x7vv2 = x7v.view(2,-1)      #轉2*N補齊剩下\r\n",
        "print(f'x7vv2: {x7vv2} , {x7vv2.size()} , {x7vv2.dim()}')\r\n",
        "x7vv3 = x7v.view(3,-1)      #轉3*N補齊剩下\r\n",
        "print(f'x7vv2: {x7vv3} , {x7vv3.size()} , {x7vv3.dim()}')"
      ],
      "execution_count": 23,
      "outputs": [
        {
          "output_type": "stream",
          "text": [
            "x7: tensor([1, 2, 3, 4, 5, 6]) , torch.Size([6]) , 1\n",
            "x7v: tensor([[1, 2],\n",
            "        [3, 4],\n",
            "        [5, 6]]) , torch.Size([3, 2]) , 2\n",
            "x7vv1: tensor([1, 2, 3, 4, 5, 6]) , torch.Size([6]) , 1\n",
            "x7vv2: tensor([[1, 2, 3],\n",
            "        [4, 5, 6]]) , torch.Size([2, 3]) , 2\n",
            "x7vv2: tensor([[1, 2],\n",
            "        [3, 4],\n",
            "        [5, 6]]) , torch.Size([3, 2]) , 2\n"
          ],
          "name": "stdout"
        }
      ]
    }
  ]
}